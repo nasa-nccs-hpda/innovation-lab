{
 "cells": [
  {
   "cell_type": "code",
   "execution_count": 1,
   "metadata": {},
   "outputs": [
    {
     "name": "stdout",
     "output_type": "stream",
     "text": [
      "\n",
      "Mmx chain starting.  Initial Context: {'observation': '/att/gpfsfs/briskfs01/ppl/SystemTesting/CassinSparrowData/ebd_Cassins_2006.csv', 'species': 'Cassins Sparrow', 'startDate': '2006-01-01', 'endDate': '2007-01-01', 'collection': 'merra2_t1nxslv', 'vars': 'U10M V10M', 'operation': 'ave', 'EdasWorldClim': 'True', 'outDir': '/att/gpfsfs/briskfs01/ppl/SystemTesting/testWorldClim/TMworldClim_fac', 'numTrials': '2', 'numPredictors': '3', 'workflow': 'Rm'}\n",
      "\n",
      "Exercise -> Service:  IL  Request:  subsetData  \n",
      "Context:  {'observation': '/att/gpfsfs/briskfs01/ppl/SystemTesting/CassinSparrowData/ebd_Cassins_2006.csv', 'species': 'Cassins Sparrow', 'startDate': '2006-01-01', 'endDate': '2007-01-01', 'collection': 'merra2_t1nxslv', 'vars': 'U10M V10M', 'operation': 'ave', 'EdasWorldClim': 'True', 'outDir': '/att/gpfsfs/briskfs01/ppl/SystemTesting/testWorldClim/TMworldClim_fac', 'numTrials': '2', 'numPredictors': '3', 'workflow': 'Rm', 'service': 'IL', 'request': 'subsetData', 'status': 'PENDING'}\n"
     ]
    },
    {
     "name": "stderr",
     "output_type": "stream",
     "text": [
      "/usr/local/lib/python3.7/site-packages/pandas/compat/__init__.py:85: UserWarning: Could not import the lzma module. Your installed Python is incomplete. Attempting to use lzma compression will result in a RuntimeError.\n",
      "  warnings.warn(msg)\n"
     ]
    },
    {
     "name": "stdout",
     "output_type": "stream",
     "text": [
      "\n",
      "Mmx chain finished.  Final Context: {'observation': '/att/gpfsfs/briskfs01/ppl/SystemTesting/CassinSparrowData/ebd_Cassins_2006.csv', 'species': 'Cassins Sparrow', 'startDate': '2006-01-01', 'endDate': '2007-01-01', 'collection': [['merra2_t1nxslv']], 'vars': [['U10M', 'V10M']], 'operation': [['ave']], 'EdasWorldClim': 'True', 'outDir': '/att/gpfsfs/briskfs01/ppl/SystemTesting/testWorldClim/TMworldClim_fac', 'numTrials': '2', 'numPredictors': '3', 'workflow': 'Rm', 'service': 'IL', 'request': 'subsetData', 'status': 'PENDING', 'source': 'EdasDev', 'images': ''}\n"
     ]
    },
    {
     "name": "stderr",
     "output_type": "stream",
     "text": [
      "/usr/local/lib/python3.7/site-packages/pandas/compat/__init__.py:85: UserWarning: Could not import the lzma module. Your installed Python is incomplete. Attempting to use lzma compression will result in a RuntimeError.\n",
      "  warnings.warn(msg)\n"
     ]
    }
   ],
   "source": [
    "import requests\n",
    "from celery import Celery\n",
    "from celery import chain\n",
    "from celery.utils.log import get_task_logger\n",
    "import json\n",
    "import subprocess\n",
    "import os\n",
    "\n",
    "logger = get_task_logger(__name__)\n",
    "\n",
    "from view.MmxRequestTranslationView import order, status, download\n",
    "\n",
    "app = Celery('MmxRequestCeleryView', broker='redis://localhost:6379/0')\n",
    "\n",
    "@app.task\n",
    "def _order(context):\n",
    "    resp = order(context)\n",
    "    return resp\n",
    "\n",
    "@app.task\n",
    "def _status(context):\n",
    "    resp = status(context)\n",
    "    print('\\nStatus -> Service: ', context['service'], ' Request: ', context['request'] , ' Status: ', context['status'])\n",
    "    return resp\n",
    "\n",
    "@app.task\n",
    "def _download(context):\n",
    "    resp = download(context)\n",
    "    return resp\n",
    "\n",
    "def _nextStep(context, service, request):\n",
    "    context['service'] = service\n",
    "    context['request'] = request\n",
    "    context['status'] = 'PENDING'\n",
    "    print('\\nExercise -> Service: ', service, ' Request: ', request, ' \\nContext: ', context)\n",
    "    #logger.info('Execute: %s %s %s', service, request, context)\n",
    "    os.system(\"rm -rf /att/gpfsfs/briskfs01/ppl/gtamkin/mmx-singularity/mmx/SystemTesting/testWorldClim/TMworldClim_fac/trials/*\")\n",
    "    return context\n",
    "\n",
    "def asynch_func(context):\n",
    "         _order.delay(context)\n",
    "\n",
    "def chain_func(context):\n",
    "    resp = context\n",
    "    try:\n",
    "        resp = chain(\n",
    "                _nextStep(context,'IL','subsetData'),\n",
    "                _order(context),\n",
    "\n",
    "                _nextStep(context, 'MMX','prepareImages'),\n",
    "                _order(context),\n",
    "\n",
    "                _nextStep(context, 'MMX','runTrials'),\n",
    "                _order(context),\n",
    "\n",
    "                _nextStep(context,'MMX','getTopPredictors'),\n",
    "                _order(context),\n",
    "\n",
    "                _nextStep(context,'MMX','runFinalModel'),\n",
    "                _order(context),\n",
    "                )\n",
    "        print(resp)\n",
    "\n",
    "    except Exception as e:\n",
    "        print(\"\\nMmx chain finished.  Final Context:\", resp)\n",
    "\n",
    "    return resp\n",
    "\n",
    "if __name__ == \"__main__\":\n",
    "\n",
    "        json_string = \"{\\\"observation\\\":\\\"/att/gpfsfs/briskfs01/ppl/gtamkin/mmx-singularity/mmx/SystemTesting/CassinSparrowData/ebd_Cassins_2006.csv\\\", \" \\\n",
    "                        \"\\\"species\\\":\\\"Cassins Sparrow\\\", \\\"startDate\\\":\\\"2006-01-01\\\", \\\"endDate\\\":\\\"2007-01-01\\\", \\\"collection\\\":\\\"merra2_t1nxslv\\\", \" \\\n",
    "                        \"\\\"vars\\\":\\\"U10M V10M\\\", \\\"operation\\\":\\\"ave\\\", \\\"EdasWorldClim\\\":\\\"True\\\", \" \\\n",
    "                        \"\\\"outDir\\\":\\\"/att/gpfsfs/briskfs01/ppl/gtamkin/mmx-singularity/mmx/SystemTesting/testWorldClim/TMworldClim_fac\\\", \\\"numTrials\\\":\\\"2\\\", \\\"numPredictors\\\":\\\"3\\\", \" \\\n",
    "                        \"\\\"workflow\\\":\\\"Rm\\\"}\"\n",
    "        context = json.loads(json_string)\n",
    "        print(\"\\nMmx chain starting.  Initial Context:\", context)\n",
    "        chain_func(context)\n"
   ]
  },
  {
   "cell_type": "code",
   "execution_count": null,
   "metadata": {},
   "outputs": [],
   "source": []
  },
  {
   "cell_type": "code",
   "execution_count": null,
   "metadata": {},
   "outputs": [],
   "source": []
  },
  {
   "cell_type": "code",
   "execution_count": null,
   "metadata": {},
   "outputs": [],
   "source": []
  }
 ],
 "metadata": {
  "kernelspec": {
   "display_name": "Python 3",
   "language": "python",
   "name": "python3"
  },
  "language_info": {
   "codemirror_mode": {
    "name": "ipython",
    "version": 3
   },
   "file_extension": ".py",
   "mimetype": "text/x-python",
   "name": "python",
   "nbconvert_exporter": "python",
   "pygments_lexer": "ipython3",
   "version": "3.7.4"
  }
 },
 "nbformat": 4,
 "nbformat_minor": 4
}
